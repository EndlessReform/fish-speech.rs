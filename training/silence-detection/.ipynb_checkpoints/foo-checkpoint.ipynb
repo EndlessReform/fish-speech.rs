{
 "cells": [
  {
   "cell_type": "code",
   "execution_count": 1,
   "metadata": {},
   "outputs": [
    {
     "name": "stdout",
     "output_type": "stream",
     "text": [
      "\u001b[1m\u001b[33mwarning\u001b[39m\u001b[0m\u001b[1m:\u001b[0m \u001b[1m`VIRTUAL_ENV=/home/ritsuko/.cache/uv/archive-v0/4Gq7BHpWcPyQCwy5-OXEi` does not match the project environment path `.venv` and will be ignored\u001b[0m\n",
      "\u001b[2mResolved \u001b[1m64 packages\u001b[0m \u001b[2min 7ms\u001b[0m\u001b[0m\n",
      "\u001b[2mAudited \u001b[1m32 packages\u001b[0m \u001b[2min 0.02ms\u001b[0m\u001b[0m\n",
      "Foobar\n"
     ]
    }
   ],
   "source": [
    "!uv add datasets\n",
    "import datasets\n",
    "print(\"Foobar\")"
   ]
  },
  {
   "cell_type": "code",
   "execution_count": 1,
   "metadata": {},
   "outputs": [
    {
     "name": "stdout",
     "output_type": "stream",
     "text": [
      "foo\n"
     ]
    }
   ],
   "source": [
    "print(\"foo\")"
   ]
  }
 ],
 "metadata": {
  "kernelspec": {
   "display_name": "Python 3 (ipykernel)",
   "language": "python",
   "name": "python3"
  },
  "language_info": {
   "codemirror_mode": {
    "name": "ipython",
    "version": 3
   },
   "file_extension": ".py",
   "mimetype": "text/x-python",
   "name": "python",
   "nbconvert_exporter": "python",
   "pygments_lexer": "ipython3",
   "version": "3.10.14"
  }
 },
 "nbformat": 4,
 "nbformat_minor": 4
}
