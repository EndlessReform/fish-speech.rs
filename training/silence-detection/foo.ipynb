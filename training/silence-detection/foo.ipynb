{
 "cells": [
  {
   "cell_type": "code",
   "execution_count": 1,
   "metadata": {},
   "outputs": [
    {
     "name": "stdout",
     "output_type": "stream",
     "text": [
      "\u001b[1m\u001b[33mwarning\u001b[39m\u001b[0m\u001b[1m:\u001b[0m \u001b[1m`VIRTUAL_ENV=/home/ritsuko/.cache/uv/archive-v0/WriE2NvyiU3v2dit3c-L4` does not match the project environment path `.venv` and will be ignored\u001b[0m\n",
      "\u001b[2mResolved \u001b[1m80 packages\u001b[0m \u001b[2min 0.20ms\u001b[0m\u001b[0m\n",
      "\u001b[2mAudited \u001b[1m50 packages\u001b[0m \u001b[2min 0.02ms\u001b[0m\u001b[0m\n",
      "Foobar\n"
     ]
    }
   ],
   "source": [
    "!uv add datasets requests pandas soundfile\n",
    "import datasets\n",
    "print(\"Foobar\")"
   ]
  },
  {
   "cell_type": "code",
   "execution_count": 31,
   "metadata": {},
   "outputs": [
    {
     "name": "stdout",
     "output_type": "stream",
     "text": [
      "Loaded existing index with 1000 speakers\n"
     ]
    }
   ],
   "source": [
    "import os\n",
    "import json\n",
    "import requests\n",
    "import numpy as np\n",
    "from pathlib import Path\n",
    "from datasets import load_dataset\n",
    "from tqdm.notebook import tqdm\n",
    "import tempfile\n",
    "import soundfile as sf\n",
    "\n",
    "# Create output directory\n",
    "output_dir = Path('voices')\n",
    "output_dir.mkdir(exist_ok=True)\n",
    "\n",
    "# Track our speakers and their example texts\n",
    "# Load existing index if it exists, otherwise create new\n",
    "index_path = output_dir / 'index.json'\n",
    "if index_path.exists():\n",
    "    with open(index_path, 'r', encoding='utf-8') as f:\n",
    "        speakers_index = json.load(f)\n",
    "    print(f\"Loaded existing index with {len(speakers_index['speakers'])} speakers\")\n",
    "else:\n",
    "    speakers_index = {\"speakers\": {}}\n",
    "    print(\"Starting fresh index\")\n",
    "\n",
    "\n"
   ]
  },
  {
   "cell_type": "code",
   "execution_count": 24,
   "metadata": {},
   "outputs": [],
   "source": [
    "def process_audio(audio_dict, speaker_id, metadata):\n",
    "    \"\"\"Process a single audio file through the encoding endpoint\"\"\"\n",
    "    # Extract the raw audio data and sampling rate\n",
    "    audio_array = audio_dict['array']\n",
    "    sr = audio_dict['sampling_rate']\n",
    "    \n",
    "    # Save as WAV\n",
    "    with tempfile.NamedTemporaryFile(suffix='.wav', delete=False) as temp_file:\n",
    "        sf.write(temp_file.name, audio_array, sr, format='WAV')\n",
    "        temp_path = temp_file.name\n",
    "    \n",
    "    try:\n",
    "        # Send to your endpoint\n",
    "        files = {'file': ('audio.wav', open(temp_path, 'rb'), 'audio/wav')}\n",
    "        response = requests.post('http://localhost:5000/v1/audio/encoding', \n",
    "                               files=files)\n",
    "        \n",
    "        if response.status_code == 200:\n",
    "            # Save the numpy array\n",
    "            output_path = output_dir / f\"{speaker_id}.npy\"\n",
    "            with open(output_path, 'wb') as f:\n",
    "                f.write(response.content)\n",
    "            \n",
    "            # Add to our index\n",
    "            speakers_index[\"speakers\"][speaker_id] = metadata['text']\n",
    "            \n",
    "            # Write index after each successful addition\n",
    "            with open(output_dir / 'index.json', 'w', encoding='utf-8') as f:\n",
    "                json.dump(speakers_index, f, ensure_ascii=False, indent=4)\n",
    "                \n",
    "            return True\n",
    "        else:\n",
    "            print(f\"Failed to process {speaker_id}: {response.status_code}\")\n",
    "            return False\n",
    "            \n",
    "    finally:\n",
    "        # Cleanup temp file\n",
    "        os.unlink(temp_path)"
   ]
  },
  {
   "cell_type": "code",
   "execution_count": 29,
   "metadata": {},
   "outputs": [],
   "source": [
    "def process_language(lang_code, max_speakers=1000):\n",
    "    print(f\"\\nProcessing {lang_code}...\")\n",
    "    \n",
    "    # Load dataset for specific language\n",
    "    path = f\"{lang_code.upper()}/*.tar\"\n",
    "    dataset = load_dataset(\"amphion/Emilia-Dataset\", \n",
    "                         data_files={lang_code: path}, \n",
    "                         split=lang_code, \n",
    "                         streaming=True)\n",
    "    \n",
    "    processed_speakers = set()\n",
    "    pbar = tqdm(desc=f\"Speakers processed for {lang_code}\")\n",
    "    \n",
    "    for item in dataset:\n",
    "        try:\n",
    "            # Parse the JSON data\n",
    "            metadata = item['json']\n",
    "            speaker_id = metadata['speaker']\n",
    "            \n",
    "            # Skip if we already have this speaker\n",
    "            if speaker_id in processed_speakers:\n",
    "                continue\n",
    "                \n",
    "            success = process_audio(item['mp3'], speaker_id, metadata)\n",
    "            if success:\n",
    "                processed_speakers.add(speaker_id)\n",
    "                pbar.update(1)\n",
    "                \n",
    "                if len(processed_speakers) >= max_speakers:\n",
    "                    break\n",
    "            else:\n",
    "                # If we hit an error, stop processing\n",
    "                print(f\"Stopping processing due to failure on {speaker_id}\")\n",
    "                break\n",
    "                \n",
    "        except Exception as e:\n",
    "            print(f\"Error processing {speaker_id}: {e}\")\n",
    "            print(\"Stopping processing due to error\")\n",
    "            break\n",
    "    \n",
    "    pbar.close()\n",
    "    return len(processed_speakers)\n"
   ]
  },
  {
   "cell_type": "code",
   "execution_count": 30,
   "metadata": {},
   "outputs": [
    {
     "name": "stdout",
     "output_type": "stream",
     "text": [
      "\n",
      "Processing ja...\n"
     ]
    },
    {
     "data": {
      "application/vnd.jupyter.widget-view+json": {
       "model_id": "d6c3bb08073a4e399efc61b8d1afdd2f",
       "version_major": 2,
       "version_minor": 0
      },
      "text/plain": [
       "Resolving data files:   0%|          | 0/70 [00:00<?, ?it/s]"
      ]
     },
     "metadata": {},
     "output_type": "display_data"
    },
    {
     "data": {
      "application/vnd.jupyter.widget-view+json": {
       "model_id": "c226f4e9065746b0819bfdeedce80b65",
       "version_major": 2,
       "version_minor": 0
      },
      "text/plain": [
       "Resolving data files:   0%|          | 0/70 [00:00<?, ?it/s]"
      ]
     },
     "metadata": {},
     "output_type": "display_data"
    },
    {
     "data": {
      "application/vnd.jupyter.widget-view+json": {
       "model_id": "9ce639d1c1df44789ac1b3facd98e566",
       "version_major": 2,
       "version_minor": 0
      },
      "text/plain": [
       "Speakers processed for ja: 0it [00:00, ?it/s]"
      ]
     },
     "metadata": {},
     "output_type": "display_data"
    }
   ],
   "source": [
    "speakers_ja = process_language('ja', max_speakers=1000)"
   ]
  },
  {
   "cell_type": "code",
   "execution_count": 32,
   "metadata": {},
   "outputs": [
    {
     "name": "stdout",
     "output_type": "stream",
     "text": [
      "\n",
      "Processing zh...\n"
     ]
    },
    {
     "data": {
      "application/vnd.jupyter.widget-view+json": {
       "model_id": "d03dd22c552a49438c1204d76290ae02",
       "version_major": 2,
       "version_minor": 0
      },
      "text/plain": [
       "Resolving data files:   0%|          | 0/920 [00:00<?, ?it/s]"
      ]
     },
     "metadata": {},
     "output_type": "display_data"
    },
    {
     "data": {
      "application/vnd.jupyter.widget-view+json": {
       "model_id": "5c4f1164882640d0bbe7383454c9f4b1",
       "version_major": 2,
       "version_minor": 0
      },
      "text/plain": [
       "Resolving data files:   0%|          | 0/920 [00:00<?, ?it/s]"
      ]
     },
     "metadata": {},
     "output_type": "display_data"
    },
    {
     "data": {
      "application/vnd.jupyter.widget-view+json": {
       "model_id": "63aa78921c9742f9a5805f0f7b097801",
       "version_major": 2,
       "version_minor": 0
      },
      "text/plain": [
       "Speakers processed for zh: 0it [00:00, ?it/s]"
      ]
     },
     "metadata": {},
     "output_type": "display_data"
    }
   ],
   "source": [
    "speakers_zh = process_language('zh', max_speakers=1000)"
   ]
  },
  {
   "cell_type": "code",
   "execution_count": 33,
   "metadata": {},
   "outputs": [
    {
     "name": "stdout",
     "output_type": "stream",
     "text": [
      "\n",
      "Processing en...\n"
     ]
    },
    {
     "data": {
      "application/vnd.jupyter.widget-view+json": {
       "model_id": "a3f14e92654b4c2588f9e622a78c1295",
       "version_major": 2,
       "version_minor": 0
      },
      "text/plain": [
       "Resolving data files:   0%|          | 0/1140 [00:00<?, ?it/s]"
      ]
     },
     "metadata": {},
     "output_type": "display_data"
    },
    {
     "data": {
      "application/vnd.jupyter.widget-view+json": {
       "model_id": "cd049efe747b43d9a881682fcf0ee07f",
       "version_major": 2,
       "version_minor": 0
      },
      "text/plain": [
       "Resolving data files:   0%|          | 0/1140 [00:00<?, ?it/s]"
      ]
     },
     "metadata": {},
     "output_type": "display_data"
    },
    {
     "data": {
      "application/vnd.jupyter.widget-view+json": {
       "model_id": "2e0a2f1f3875464e8e852cf07e75e4ba",
       "version_major": 2,
       "version_minor": 0
      },
      "text/plain": [
       "Speakers processed for en: 0it [00:00, ?it/s]"
      ]
     },
     "metadata": {},
     "output_type": "display_data"
    }
   ],
   "source": [
    "speakers_en = process_language('en', max_speakers=1000)"
   ]
  }
 ],
 "metadata": {
  "kernelspec": {
   "display_name": "Python 3 (ipykernel)",
   "language": "python",
   "name": "python3"
  },
  "language_info": {
   "codemirror_mode": {
    "name": "ipython",
    "version": 3
   },
   "file_extension": ".py",
   "mimetype": "text/x-python",
   "name": "python",
   "nbconvert_exporter": "python",
   "pygments_lexer": "ipython3",
   "version": "3.9.20"
  }
 },
 "nbformat": 4,
 "nbformat_minor": 4
}
